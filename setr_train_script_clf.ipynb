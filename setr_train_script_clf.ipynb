{
 "cells": [
  {
   "cell_type": "code",
   "execution_count": null,
   "metadata": {},
   "outputs": [],
   "source": [
    "import os\n",
    "import sys\n",
    "import glob\n",
    "import numpy as np\n",
    "import matplotlib.pyplot as plt\n",
    "from tqdm import tqdm\n",
    "\n",
    "import tensorflow as tf\n",
    "import tensorflow_datasets as tfds\n",
    "from tensorflow.keras import backend as K\n",
    "from tensorflow.keras import mixed_precision\n",
    "from tensorflow.keras.losses import CategoricalCrossentropy\n",
    "from tensorflow.keras.optimizers.schedules import PolynomialDecay, PiecewiseConstantDecay\n",
    "from tensorflow.keras.optimizers import Adam, SGD\n",
    "from tensorflow.keras.callbacks import ModelCheckpoint, ReduceLROnPlateau, EarlyStopping\n",
    "from models.clf.setr_clf import SETR_CLF\n",
    "\n",
    "K.clear_session()\n",
    "physical_devices = tf.config.experimental.list_physical_devices(\"GPU\")\n",
    "tf.config.experimental.set_memory_growth(physical_devices[0], True)\n",
    "\n",
    "def enable_amp():\n",
    "    mixed_precision.set_global_policy(\"mixed_float16\")\n",
    "%config InlineBackend.figure_format = 'retina'\n",
    "plt.style.use('ggplot')\n",
    "plt.rc('xtick',labelsize=16)\n",
    "plt.rc('ytick',labelsize=16)\n",
    "print(\"Tensorflow version: \", tf.__version__)\n",
    "print(physical_devices,\"\\n\")\n",
    "enable_amp() "
   ]
  },
  {
   "cell_type": "code",
   "execution_count": null,
   "metadata": {},
   "outputs": [],
   "source": [
    "class ImageNetLoader():\n",
    "    \n",
    "    def __init__(self, img_height, img_width, n_classes):\n",
    "        self.n_classes = n_classes\n",
    "        self.img_height = img_height\n",
    "        self.img_width = img_width\n",
    "        self.MEAN = np.array([0.485, 0.456, 0.406])\n",
    "        self.STD = np.array([0.229, 0.224, 0.225])\n",
    "        \n",
    "    \n",
    "    @tf.function\n",
    "    def random_crop(self, image):\n",
    "\n",
    "        scales = tf.convert_to_tensor(np.array([0.75, 0.8125, 0.875, 0.9375, 1.0]))\n",
    "        scale = scales[tf.random.uniform(shape=[], minval=0, maxval=5, dtype=tf.int32)]\n",
    "        scale = tf.cast(scale, tf.float32)\n",
    "\n",
    "        shape = tf.cast(tf.shape(image), tf.float32)\n",
    "        h = tf.cast(shape[0] * scale, tf.int32)\n",
    "        w = tf.cast(shape[1] * scale, tf.int32)\n",
    "        image = tf.image.random_crop(image, size=[h, w, 3])\n",
    "        return image\n",
    "\n",
    "    @tf.function\n",
    "    def normalize(self, image):\n",
    "        image = image / 255.0\n",
    "        image = image - self.MEAN\n",
    "        image = image / self.STD\n",
    "        return image\n",
    "    \n",
    "    \n",
    "    @tf.function\n",
    "    def load_image_train(self, datapoint):\n",
    "\n",
    "        img = datapoint['image']\n",
    "        label = datapoint['label']\n",
    "        label = tf.one_hot(tf.cast(label, tf.int32), self.n_classes)\n",
    "\n",
    "        if tf.random.uniform(()) > 0.5:\n",
    "            img = tf.image.flip_left_right(img)\n",
    "\n",
    "        img = self.random_crop(img)\n",
    "        img = tf.image.resize(img, (self.img_height, self.img_width))\n",
    "        img = self.normalize(tf.cast(img, tf.float32))\n",
    "\n",
    "        if tf.random.uniform(()) > 0.5:\n",
    "            img = tf.image.random_brightness(img, 0.05)\n",
    "            img = tf.image.random_saturation(img, 0.6, 1.6)\n",
    "            img = tf.image.random_contrast(img, 0.7, 1.3)\n",
    "            img = tf.image.random_hue(img, 0.05)\n",
    "\n",
    "        return img, label\n",
    "   \n",
    "\n",
    "    def load_image_test(self, datapoint):\n",
    "        img = datapoint['image']\n",
    "        label = datapoint['label']\n",
    "        label = tf.one_hot(tf.cast(label, tf.int32), self.n_classes)\n",
    "        img = tf.image.resize(img, (self.img_height, self.img_width))\n",
    "        img = self.normalize(tf.cast(img, tf.float32))\n",
    "        return img, label"
   ]
  },
  {
   "cell_type": "code",
   "execution_count": null,
   "metadata": {
    "scrolled": true
   },
   "outputs": [],
   "source": [
    "img_height = 224\n",
    "img_width = 224\n",
    "n_classes = 1000\n",
    "\n",
    "pipeline = ImageNetLoader(\n",
    "    n_classes = n_classes,\n",
    "    img_height = img_height,\n",
    "    img_width = img_width,\n",
    ")"
   ]
  },
  {
   "cell_type": "code",
   "execution_count": null,
   "metadata": {},
   "outputs": [],
   "source": [
    "dataset, info = tfds.load('imagenet2012:5.0.0', data_dir='/workspace/tensorflow_datasets/', \n",
    "                          with_info=True, shuffle_files=True)"
   ]
  },
  {
   "cell_type": "code",
   "execution_count": null,
   "metadata": {},
   "outputs": [],
   "source": [
    "train = dataset['train'].map(pipeline.load_image_train, num_parallel_calls=tf.data.AUTOTUNE)\n",
    "valid = dataset['validation'].map(pipeline.load_image_test, num_parallel_calls=tf.data.AUTOTUNE)\n",
    "\n",
    "TRAIN_LENGTH = info.splits['train'].num_examples\n",
    "VALID_LENGTH = info.splits['validation'].num_examples"
   ]
  },
  {
   "cell_type": "code",
   "execution_count": null,
   "metadata": {},
   "outputs": [],
   "source": [
    "BATCH_SIZE = 56\n",
    "ACCUM_STEPS = 4\n",
    "BUFFER_SIZE = 8192\n",
    "ADJ_BATCH_SIZE = BATCH_SIZE * ACCUM_STEPS\n",
    "print(\"Effective batch size: {}\".format(ADJ_BATCH_SIZE))"
   ]
  },
  {
   "cell_type": "code",
   "execution_count": null,
   "metadata": {},
   "outputs": [],
   "source": [
    "def display(display_list, title=True):\n",
    "    plt.figure(figsize=(15, 5)) # dpi=200\n",
    "    for i in range(len(display_list)):\n",
    "        plt.subplot(1, len(display_list), i+1)\n",
    "        plt.imshow(tf.keras.preprocessing.image.array_to_img(display_list[i]))\n",
    "        plt.axis('off')\n",
    "    plt.tight_layout()\n",
    "    plt.show()"
   ]
  },
  {
   "cell_type": "code",
   "execution_count": null,
   "metadata": {
    "scrolled": false
   },
   "outputs": [],
   "source": [
    "for image, label in train.take(4): \n",
    "    sample_image, sample_label = image, label\n",
    "\n",
    "print(sample_image.shape, sample_label.shape)\n",
    "display([sample_image])"
   ]
  },
  {
   "cell_type": "code",
   "execution_count": null,
   "metadata": {
    "scrolled": false
   },
   "outputs": [],
   "source": [
    "train_dataset = train.shuffle(BUFFER_SIZE).batch(BATCH_SIZE).repeat()\n",
    "train_dataset = train_dataset.prefetch(buffer_size=tf.data.experimental.AUTOTUNE)\n",
    "valid_dataset = valid.batch(BATCH_SIZE)"
   ]
  },
  {
   "cell_type": "code",
   "execution_count": null,
   "metadata": {},
   "outputs": [],
   "source": [
    "patch_size = 16\n",
    "image_size = img_width\n",
    "num_patches = (image_size // patch_size) ** 2"
   ]
  },
  {
   "cell_type": "code",
   "execution_count": null,
   "metadata": {
    "scrolled": false
   },
   "outputs": [],
   "source": [
    "model = SETR_CLF(\n",
    "    layers=12,\n",
    "    hidden_dim=768,\n",
    "    heads=12,\n",
    "    img_size=image_size,\n",
    "    n_classes=n_classes,\n",
    "    patch_size=patch_size,\n",
    "    num_patches=num_patches,\n",
    "    accum_steps=ACCUM_STEPS\n",
    ")"
   ]
  },
  {
   "cell_type": "code",
   "execution_count": null,
   "metadata": {},
   "outputs": [],
   "source": [
    "MODEL_PATH = \"weights/\"+model.name+\".h5\""
   ]
  },
  {
   "cell_type": "code",
   "execution_count": null,
   "metadata": {},
   "outputs": [],
   "source": [
    "# model.load_weights(MODEL_PATH)"
   ]
  },
  {
   "cell_type": "code",
   "execution_count": null,
   "metadata": {},
   "outputs": [],
   "source": [
    "model.summary()"
   ]
  },
  {
   "cell_type": "code",
   "execution_count": null,
   "metadata": {},
   "outputs": [],
   "source": [
    "EPOCHS = 100\n",
    "\n",
    "STEPS_PER_EPOCH = TRAIN_LENGTH // BATCH_SIZE\n",
    "VALIDATION_STEPS = VALID_LENGTH // BATCH_SIZE\n",
    "DECAY_STEPS = (STEPS_PER_EPOCH * EPOCHS) // ACCUM_STEPS\n",
    "DECAY_STEPS"
   ]
  },
  {
   "cell_type": "code",
   "execution_count": null,
   "metadata": {},
   "outputs": [],
   "source": [
    "CURR_EPOCH = 0\n",
    "E1 = 30 - CURR_EPOCH\n",
    "E2 = 60 - CURR_EPOCH\n",
    "E3 = 90 - CURR_EPOCH\n",
    "\n",
    "S1 = (STEPS_PER_EPOCH * E1) // ACCUM_STEPS\n",
    "S2 = (STEPS_PER_EPOCH * E2) // ACCUM_STEPS\n",
    "S3 = (STEPS_PER_EPOCH * E3) // ACCUM_STEPS\n",
    "\n",
    "print(\"--- LR decay --- \\nstep {}: {} \\nstep {}: {} \\nstep {}: {}\".format(S1, 1e-2, S2, 1e-3, S3, 1e-4))"
   ]
  },
  {
   "cell_type": "code",
   "execution_count": null,
   "metadata": {},
   "outputs": [],
   "source": [
    "learning_rate_fn = PiecewiseConstantDecay(boundaries = [S1, S2, S3], values = [1e-2, 1e-3, 1e-4, 1e-5])"
   ]
  },
  {
   "cell_type": "code",
   "execution_count": null,
   "metadata": {},
   "outputs": [],
   "source": [
    "model.compile(\n",
    "    optimizer = SGD(learning_rate=learning_rate_fn, momentum=0.9, decay=0.0001),\n",
    "    loss=CategoricalCrossentropy(from_logits=True),\n",
    "    metrics = ['accuracy']\n",
    ")"
   ]
  },
  {
   "cell_type": "code",
   "execution_count": null,
   "metadata": {},
   "outputs": [],
   "source": [
    "callbacks = [\n",
    "    ModelCheckpoint(MODEL_PATH, monitor='val_accuracy', mode='max', \n",
    "                    verbose=2, save_best_only=True, save_weights_only=True)    \n",
    "]"
   ]
  },
  {
   "cell_type": "code",
   "execution_count": null,
   "metadata": {
    "scrolled": false
   },
   "outputs": [],
   "source": [
    "results = model.fit(\n",
    "    train_dataset,\n",
    "    steps_per_epoch=STEPS_PER_EPOCH,\n",
    "    validation_steps=VALIDATION_STEPS,\n",
    "    epochs=EPOCHS,\n",
    "    validation_data=valid_dataset,\n",
    "    callbacks=callbacks,\n",
    "    verbose=1\n",
    ")"
   ]
  },
  {
   "cell_type": "code",
   "execution_count": null,
   "metadata": {},
   "outputs": [],
   "source": []
  }
 ],
 "metadata": {
  "kernelspec": {
   "display_name": "Python 3",
   "language": "python",
   "name": "python3"
  },
  "language_info": {
   "codemirror_mode": {
    "name": "ipython",
    "version": 3
   },
   "file_extension": ".py",
   "mimetype": "text/x-python",
   "name": "python",
   "nbconvert_exporter": "python",
   "pygments_lexer": "ipython3",
   "version": "3.8.5"
  }
 },
 "nbformat": 4,
 "nbformat_minor": 4
}
